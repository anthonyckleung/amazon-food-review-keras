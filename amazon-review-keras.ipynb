{
 "cells": [
  {
   "cell_type": "markdown",
   "metadata": {},
   "source": [
    "# Sentiment Classification with Neural Networks"
   ]
  },
  {
   "cell_type": "markdown",
   "metadata": {},
   "source": [
    "The purpose of this execise is to perform an natural language processing neural network training. This execise focuses on extracting reviews of Amazon foods using simple SQL (i.e., SQLite), preprocess them, and train a machine learning model for sentiment classification on these reviews. \n",
    "\n",
    "Data source: [Kaggle](https://www.kaggle.com/bittlingmayer/amazonreviews)"
   ]
  },
  {
   "cell_type": "code",
   "execution_count": 1,
   "metadata": {},
   "outputs": [
    {
     "name": "stderr",
     "output_type": "stream",
     "text": [
      "Using TensorFlow backend.\n"
     ]
    }
   ],
   "source": [
    "import numpy as np\n",
    "import pandas as pd\n",
    "import sqlite3\n",
    "\n",
    "import string\n",
    "import matplotlib.pyplot as plt\n",
    "import seaborn as sns\n",
    "sns.set()\n",
    "\n",
    "from sklearn.model_selection import StratifiedShuffleSplit\n",
    "from keras.preprocessing import sequence\n",
    "from keras.models import Sequential\n",
    "from keras.layers.embeddings import Embedding\n",
    "from keras.layers import Dense\n",
    "from keras.layers import Flatten\n",
    "from keras.layers import LSTM\n",
    "from keras.layers import Dropout"
   ]
  },
  {
   "cell_type": "code",
   "execution_count": 2,
   "metadata": {},
   "outputs": [
    {
     "data": {
      "text/plain": [
       "[name: \"/device:CPU:0\"\n",
       " device_type: \"CPU\"\n",
       " memory_limit: 268435456\n",
       " locality {\n",
       " }\n",
       " incarnation: 2489073597812587873, name: \"/device:GPU:0\"\n",
       " device_type: \"GPU\"\n",
       " memory_limit: 6700198133\n",
       " locality {\n",
       "   bus_id: 1\n",
       "   links {\n",
       "   }\n",
       " }\n",
       " incarnation: 4211195120088093976\n",
       " physical_device_desc: \"device: 0, name: GeForce GTX 1070, pci bus id: 0000:01:00.0, compute capability: 6.1\"]"
      ]
     },
     "execution_count": 2,
     "metadata": {},
     "output_type": "execute_result"
    }
   ],
   "source": [
    "# Preliminary check for available devices for TensorFlow\n",
    "from tensorflow.python.client import device_lib\n",
    "\n",
    "device_lib.list_local_devices()"
   ]
  },
  {
   "cell_type": "code",
   "execution_count": 3,
   "metadata": {},
   "outputs": [],
   "source": [
    "conn = sqlite3.connect('database.sqlite')\n",
    "cursor = conn.cursor()"
   ]
  },
  {
   "cell_type": "markdown",
   "metadata": {},
   "source": [
    "### Find names of table"
   ]
  },
  {
   "cell_type": "code",
   "execution_count": 4,
   "metadata": {},
   "outputs": [
    {
     "data": {
      "text/plain": [
       "[('Reviews',)]"
      ]
     },
     "execution_count": 4,
     "metadata": {},
     "output_type": "execute_result"
    }
   ],
   "source": [
    "query = \"\"\"\n",
    "    SELECT name\n",
    "    FROM sqlite_master\n",
    "    \"\"\"\n",
    "\n",
    "cursor.execute(query).fetchall()"
   ]
  },
  {
   "cell_type": "markdown",
   "metadata": {},
   "source": [
    "### Import data to dataframe"
   ]
  },
  {
   "cell_type": "code",
   "execution_count": 5,
   "metadata": {},
   "outputs": [],
   "source": [
    "query=\"\"\"\n",
    "    SELECT *\n",
    "    FROM Reviews\n",
    "\"\"\"\n",
    "\n",
    "df = pd.read_sql_query(query,conn)"
   ]
  },
  {
   "cell_type": "code",
   "execution_count": 6,
   "metadata": {},
   "outputs": [
    {
     "data": {
      "text/html": [
       "<div>\n",
       "<style scoped>\n",
       "    .dataframe tbody tr th:only-of-type {\n",
       "        vertical-align: middle;\n",
       "    }\n",
       "\n",
       "    .dataframe tbody tr th {\n",
       "        vertical-align: top;\n",
       "    }\n",
       "\n",
       "    .dataframe thead th {\n",
       "        text-align: right;\n",
       "    }\n",
       "</style>\n",
       "<table border=\"1\" class=\"dataframe\">\n",
       "  <thead>\n",
       "    <tr style=\"text-align: right;\">\n",
       "      <th></th>\n",
       "      <th>Id</th>\n",
       "      <th>ProductId</th>\n",
       "      <th>UserId</th>\n",
       "      <th>ProfileName</th>\n",
       "      <th>HelpfulnessNumerator</th>\n",
       "      <th>HelpfulnessDenominator</th>\n",
       "      <th>Score</th>\n",
       "      <th>Time</th>\n",
       "      <th>Summary</th>\n",
       "      <th>Text</th>\n",
       "    </tr>\n",
       "  </thead>\n",
       "  <tbody>\n",
       "    <tr>\n",
       "      <th>0</th>\n",
       "      <td>1</td>\n",
       "      <td>B001E4KFG0</td>\n",
       "      <td>A3SGXH7AUHU8GW</td>\n",
       "      <td>delmartian</td>\n",
       "      <td>1</td>\n",
       "      <td>1</td>\n",
       "      <td>5</td>\n",
       "      <td>1303862400</td>\n",
       "      <td>Good Quality Dog Food</td>\n",
       "      <td>I have bought several of the Vitality canned d...</td>\n",
       "    </tr>\n",
       "    <tr>\n",
       "      <th>1</th>\n",
       "      <td>2</td>\n",
       "      <td>B00813GRG4</td>\n",
       "      <td>A1D87F6ZCVE5NK</td>\n",
       "      <td>dll pa</td>\n",
       "      <td>0</td>\n",
       "      <td>0</td>\n",
       "      <td>1</td>\n",
       "      <td>1346976000</td>\n",
       "      <td>Not as Advertised</td>\n",
       "      <td>Product arrived labeled as Jumbo Salted Peanut...</td>\n",
       "    </tr>\n",
       "    <tr>\n",
       "      <th>2</th>\n",
       "      <td>3</td>\n",
       "      <td>B000LQOCH0</td>\n",
       "      <td>ABXLMWJIXXAIN</td>\n",
       "      <td>Natalia Corres \"Natalia Corres\"</td>\n",
       "      <td>1</td>\n",
       "      <td>1</td>\n",
       "      <td>4</td>\n",
       "      <td>1219017600</td>\n",
       "      <td>\"Delight\" says it all</td>\n",
       "      <td>This is a confection that has been around a fe...</td>\n",
       "    </tr>\n",
       "    <tr>\n",
       "      <th>3</th>\n",
       "      <td>4</td>\n",
       "      <td>B000UA0QIQ</td>\n",
       "      <td>A395BORC6FGVXV</td>\n",
       "      <td>Karl</td>\n",
       "      <td>3</td>\n",
       "      <td>3</td>\n",
       "      <td>2</td>\n",
       "      <td>1307923200</td>\n",
       "      <td>Cough Medicine</td>\n",
       "      <td>If you are looking for the secret ingredient i...</td>\n",
       "    </tr>\n",
       "    <tr>\n",
       "      <th>4</th>\n",
       "      <td>5</td>\n",
       "      <td>B006K2ZZ7K</td>\n",
       "      <td>A1UQRSCLF8GW1T</td>\n",
       "      <td>Michael D. Bigham \"M. Wassir\"</td>\n",
       "      <td>0</td>\n",
       "      <td>0</td>\n",
       "      <td>5</td>\n",
       "      <td>1350777600</td>\n",
       "      <td>Great taffy</td>\n",
       "      <td>Great taffy at a great price.  There was a wid...</td>\n",
       "    </tr>\n",
       "  </tbody>\n",
       "</table>\n",
       "</div>"
      ],
      "text/plain": [
       "   Id                        ...                                                                       Text\n",
       "0   1                        ...                          I have bought several of the Vitality canned d...\n",
       "1   2                        ...                          Product arrived labeled as Jumbo Salted Peanut...\n",
       "2   3                        ...                          This is a confection that has been around a fe...\n",
       "3   4                        ...                          If you are looking for the secret ingredient i...\n",
       "4   5                        ...                          Great taffy at a great price.  There was a wid...\n",
       "\n",
       "[5 rows x 10 columns]"
      ]
     },
     "execution_count": 6,
     "metadata": {},
     "output_type": "execute_result"
    }
   ],
   "source": [
    "df.head()"
   ]
  },
  {
   "cell_type": "markdown",
   "metadata": {},
   "source": [
    "### Data/Sentiment Profiling and Analysis"
   ]
  },
  {
   "cell_type": "code",
   "execution_count": 7,
   "metadata": {},
   "outputs": [
    {
     "data": {
      "text/plain": [
       "Id                         int64\n",
       "ProductId                 object\n",
       "UserId                    object\n",
       "ProfileName               object\n",
       "HelpfulnessNumerator       int64\n",
       "HelpfulnessDenominator     int64\n",
       "Score                      int64\n",
       "Time                       int64\n",
       "Summary                   object\n",
       "Text                      object\n",
       "dtype: object"
      ]
     },
     "execution_count": 7,
     "metadata": {},
     "output_type": "execute_result"
    }
   ],
   "source": [
    "df.dtypes"
   ]
  },
  {
   "cell_type": "markdown",
   "metadata": {},
   "source": [
    "Check to see if the \"HelpfulnessNumerator\" and \"HelpfulnessDenominator\" columns are of any practical use."
   ]
  },
  {
   "cell_type": "code",
   "execution_count": 8,
   "metadata": {},
   "outputs": [],
   "source": [
    "df = df[df.HelpfulnessNumerator <= df.HelpfulnessDenominator]"
   ]
  },
  {
   "cell_type": "markdown",
   "metadata": {},
   "source": [
    "**Result**: No entries were shown. Therefore, these two columns will be ignored for the rest of the analysis."
   ]
  },
  {
   "cell_type": "markdown",
   "metadata": {},
   "source": [
    "For simplicity, categorize the review scores into two labels: 'Negative' and 'Positive'. It is then necessary to examine the distribution of the scores."
   ]
  },
  {
   "cell_type": "code",
   "execution_count": 9,
   "metadata": {},
   "outputs": [
    {
     "data": {
      "image/png": "[encoded data removed]",
      "text/plain": [
       "<Figure size 432x288 with 1 Axes>"
      ]
     },
     "metadata": {},
     "output_type": "display_data"
    }
   ],
   "source": [
    "axis = plt.axes()\n",
    "sns.countplot(df.Score, ax =axis)\n",
    "axis.set_title('Distribution of Review Score')\n",
    "plt.xlabel('Review Score')\n",
    "plt.ylabel('Count')\n",
    "plt.show()"
   ]
  },
  {
   "cell_type": "code",
   "execution_count": 10,
   "metadata": {},
   "outputs": [
    {
     "data": {
      "text/plain": [
       "count    568452.000000\n",
       "mean          4.183198\n",
       "std           1.310438\n",
       "min           1.000000\n",
       "25%           4.000000\n",
       "50%           5.000000\n",
       "75%           5.000000\n",
       "max           5.000000\n",
       "Name: Score, dtype: float64"
      ]
     },
     "execution_count": 10,
     "metadata": {},
     "output_type": "execute_result"
    }
   ],
   "source": [
    "df.Score.describe()"
   ]
  },
  {
   "cell_type": "markdown",
   "metadata": {},
   "source": [
    "The bar plot and the basic statistics show that the distribution is skewed towards the positive side. It is sensible to consider scores less than or equal to 3 as 'Negative' (Value = 0) and scores of 4 or 5 as 'Positive' (Value = 1)."
   ]
  },
  {
   "cell_type": "code",
   "execution_count": 11,
   "metadata": {},
   "outputs": [],
   "source": [
    "# Add additional column called 'Sentiment' and label the scores accordingly.\n",
    "df.loc[df.Score <= 3, 'Sentiment'] = 0\n",
    "df.loc[df.Score > 3, 'Sentiment'] = 1\n",
    "\n",
    "# If any, drop reviews submitted by the same user.\n",
    "df.drop_duplicates(subset = {'UserId','ProfileName','Time'} ,keep = 'first', inplace = True)"
   ]
  },
  {
   "cell_type": "code",
   "execution_count": 12,
   "metadata": {},
   "outputs": [
    {
     "data": {
      "text/html": [
       "<div>\n",
       "<style scoped>\n",
       "    .dataframe tbody tr th:only-of-type {\n",
       "        vertical-align: middle;\n",
       "    }\n",
       "\n",
       "    .dataframe tbody tr th {\n",
       "        vertical-align: top;\n",
       "    }\n",
       "\n",
       "    .dataframe thead th {\n",
       "        text-align: right;\n",
       "    }\n",
       "</style>\n",
       "<table border=\"1\" class=\"dataframe\">\n",
       "  <thead>\n",
       "    <tr style=\"text-align: right;\">\n",
       "      <th></th>\n",
       "      <th>Id</th>\n",
       "      <th>ProductId</th>\n",
       "      <th>UserId</th>\n",
       "      <th>ProfileName</th>\n",
       "      <th>HelpfulnessNumerator</th>\n",
       "      <th>HelpfulnessDenominator</th>\n",
       "      <th>Score</th>\n",
       "      <th>Time</th>\n",
       "      <th>Summary</th>\n",
       "      <th>Text</th>\n",
       "      <th>Sentiment</th>\n",
       "    </tr>\n",
       "  </thead>\n",
       "  <tbody>\n",
       "    <tr>\n",
       "      <th>0</th>\n",
       "      <td>1</td>\n",
       "      <td>B001E4KFG0</td>\n",
       "      <td>A3SGXH7AUHU8GW</td>\n",
       "      <td>delmartian</td>\n",
       "      <td>1</td>\n",
       "      <td>1</td>\n",
       "      <td>5</td>\n",
       "      <td>1303862400</td>\n",
       "      <td>Good Quality Dog Food</td>\n",
       "      <td>I have bought several of the Vitality canned d...</td>\n",
       "      <td>1.0</td>\n",
       "    </tr>\n",
       "    <tr>\n",
       "      <th>1</th>\n",
       "      <td>2</td>\n",
       "      <td>B00813GRG4</td>\n",
       "      <td>A1D87F6ZCVE5NK</td>\n",
       "      <td>dll pa</td>\n",
       "      <td>0</td>\n",
       "      <td>0</td>\n",
       "      <td>1</td>\n",
       "      <td>1346976000</td>\n",
       "      <td>Not as Advertised</td>\n",
       "      <td>Product arrived labeled as Jumbo Salted Peanut...</td>\n",
       "      <td>0.0</td>\n",
       "    </tr>\n",
       "    <tr>\n",
       "      <th>2</th>\n",
       "      <td>3</td>\n",
       "      <td>B000LQOCH0</td>\n",
       "      <td>ABXLMWJIXXAIN</td>\n",
       "      <td>Natalia Corres \"Natalia Corres\"</td>\n",
       "      <td>1</td>\n",
       "      <td>1</td>\n",
       "      <td>4</td>\n",
       "      <td>1219017600</td>\n",
       "      <td>\"Delight\" says it all</td>\n",
       "      <td>This is a confection that has been around a fe...</td>\n",
       "      <td>1.0</td>\n",
       "    </tr>\n",
       "    <tr>\n",
       "      <th>3</th>\n",
       "      <td>4</td>\n",
       "      <td>B000UA0QIQ</td>\n",
       "      <td>A395BORC6FGVXV</td>\n",
       "      <td>Karl</td>\n",
       "      <td>3</td>\n",
       "      <td>3</td>\n",
       "      <td>2</td>\n",
       "      <td>1307923200</td>\n",
       "      <td>Cough Medicine</td>\n",
       "      <td>If you are looking for the secret ingredient i...</td>\n",
       "      <td>0.0</td>\n",
       "    </tr>\n",
       "    <tr>\n",
       "      <th>4</th>\n",
       "      <td>5</td>\n",
       "      <td>B006K2ZZ7K</td>\n",
       "      <td>A1UQRSCLF8GW1T</td>\n",
       "      <td>Michael D. Bigham \"M. Wassir\"</td>\n",
       "      <td>0</td>\n",
       "      <td>0</td>\n",
       "      <td>5</td>\n",
       "      <td>1350777600</td>\n",
       "      <td>Great taffy</td>\n",
       "      <td>Great taffy at a great price.  There was a wid...</td>\n",
       "      <td>1.0</td>\n",
       "    </tr>\n",
       "  </tbody>\n",
       "</table>\n",
       "</div>"
      ],
      "text/plain": [
       "   Id    ...    Sentiment\n",
       "0   1    ...          1.0\n",
       "1   2    ...          0.0\n",
       "2   3    ...          1.0\n",
       "3   4    ...          0.0\n",
       "4   5    ...          1.0\n",
       "\n",
       "[5 rows x 11 columns]"
      ]
     },
     "execution_count": 12,
     "metadata": {},
     "output_type": "execute_result"
    }
   ],
   "source": [
    "df.head()"
   ]
  },
  {
   "cell_type": "code",
   "execution_count": 13,
   "metadata": {},
   "outputs": [],
   "source": [
    "reviews = df['Text'].values"
   ]
  },
  {
   "cell_type": "code",
   "execution_count": 14,
   "metadata": {},
   "outputs": [
    {
     "data": {
      "text/plain": [
       "count    352784.000000\n",
       "mean          4.168707\n",
       "std           1.326934\n",
       "min           1.000000\n",
       "25%           4.000000\n",
       "50%           5.000000\n",
       "75%           5.000000\n",
       "max           5.000000\n",
       "Name: Score, dtype: float64"
      ]
     },
     "execution_count": 14,
     "metadata": {},
     "output_type": "execute_result"
    }
   ],
   "source": [
    "df.Score.describe()"
   ]
  },
  {
   "cell_type": "markdown",
   "metadata": {},
   "source": [
    "### Text processing and analysis"
   ]
  },
  {
   "cell_type": "markdown",
   "metadata": {},
   "source": [
    "1. Remove any HTML tags (but also count the tags)\n",
    "2. Convert words to lowercase\n",
    "3. Remove email and web addression (but also count them)\n",
    "4. Remove any signs and numbers\n",
    "5. Remove any punctuations\n",
    "5. Remove white sapces\n",
    "6. Count number of words\n",
    "7. Remove stopwords\n",
    "8. Stem all words down to their root to simplify the modeling.\n",
    "\n",
    "This entire process is done under the text_process function below. This is adopted from the article by Sonya Sawtelle who has written an [article](http://sdsawtelle.github.io/blog/output/spam-classification-part1-text-processing.html) on putting together a Spam email classifier. A few changes were made here to simplify the code a bit."
   ]
  },
  {
   "cell_type": "code",
   "execution_count": 15,
   "metadata": {},
   "outputs": [
    {
     "name": "stdout",
     "output_type": "stream",
     "text": [
      "[nltk_data] Downloading package stopwords to\n",
      "[nltk_data]     C:\\Users\\Anthony\\AppData\\Roaming\\nltk_data...\n",
      "[nltk_data]   Package stopwords is already up-to-date!\n"
     ]
    },
    {
     "data": {
      "text/plain": [
       "True"
      ]
     },
     "execution_count": 15,
     "metadata": {},
     "output_type": "execute_result"
    }
   ],
   "source": [
    "from bs4 import BeautifulSoup\n",
    "from nltk.stem.snowball import SnowballStemmer\n",
    "import re\n",
    "import nltk\n",
    "from nltk.corpus import stopwords\n",
    "nltk.download('stopwords')"
   ]
  },
  {
   "cell_type": "code",
   "execution_count": 16,
   "metadata": {},
   "outputs": [],
   "source": [
    "stemmer = SnowballStemmer(\"english\")\n",
    "stop_words = set(stopwords.words(\"english\"))\n",
    "tr = str.maketrans(\"\",\"\", string.punctuation)"
   ]
  },
  {
   "cell_type": "code",
   "execution_count": 17,
   "metadata": {},
   "outputs": [],
   "source": [
    "def text_process(body):\n",
    "    '''Produce a word salad from text body.'''    \n",
    "    # Parse HTML extract content only\n",
    "    soup = BeautifulSoup(body, 'html.parser')\n",
    "\n",
    "    # Pull out only the non-markup tex\n",
    "    body = soup.get_text()\n",
    "    \n",
    "    # lowercase everything\n",
    "    body = body.lower()\n",
    "    \n",
    "    # Replace all numbers with special strings\n",
    "    regx = re.compile(r\"\\b[\\d.]+\\b\")\n",
    "    body = regx.sub(repl=\" \", string=body)\n",
    "\n",
    "    # Remove all other punctuations (replace with white space)\n",
    "    regx = re.compile(r\"([^\\w\\s]+)|([_-]+)\")  \n",
    "    body = regx.sub(repl=\" \", string=body)\n",
    "\n",
    "    # Make all white space a single space\n",
    "    regx = re.compile(r\"\\s+\")\n",
    "    body = regx.sub(repl=\" \", string=body)\n",
    "\n",
    "    # Remove any trailing or leading white space\n",
    "    body = body.strip(\" \")\n",
    " \n",
    "    # Remove all useless stopwords\n",
    "    bodywords = body.split(\" \")\n",
    "    keepwords = [word for word in bodywords if word not in stop_words]\n",
    "\n",
    "    # Stem all words\n",
    "    stemwords = [stemmer.stem(wd) for wd in keepwords]\n",
    "    body = \" \".join(stemwords)\n",
    "\n",
    "    return body"
   ]
  },
  {
   "cell_type": "markdown",
   "metadata": {},
   "source": [
    "Before processing:"
   ]
  },
  {
   "cell_type": "code",
   "execution_count": 18,
   "metadata": {},
   "outputs": [
    {
     "data": {
      "text/plain": [
       "'I got a wild hair for taffy and ordered this five pound bag. The taffy was all very enjoyable with many flavors: watermelon, root beer, melon, peppermint, grape, etc. My only complaint is there was a bit too much red/black licorice-flavored pieces (just not my particular favorites). Between me, my kids, and my husband, this lasted only two weeks! I would recommend this brand of taffy -- it was a delightful treat.'"
      ]
     },
     "execution_count": 18,
     "metadata": {},
     "output_type": "execute_result"
    }
   ],
   "source": [
    "body = reviews[5]\n",
    "body"
   ]
  },
  {
   "cell_type": "markdown",
   "metadata": {},
   "source": [
    "After processing:"
   ]
  },
  {
   "cell_type": "code",
   "execution_count": 19,
   "metadata": {},
   "outputs": [
    {
     "data": {
      "text/plain": [
       "'got wild hair taffi order five pound bag taffi enjoy mani flavor watermelon root beer melon peppermint grape etc complaint bit much red black licoric flavor piec particular favorit kid husband last two week would recommend brand taffi delight treat'"
      ]
     },
     "execution_count": 19,
     "metadata": {},
     "output_type": "execute_result"
    }
   ],
   "source": [
    "text_process(body)"
   ]
  },
  {
   "cell_type": "markdown",
   "metadata": {},
   "source": [
    "#### Process all reviews"
   ]
  },
  {
   "cell_type": "code",
   "execution_count": 20,
   "metadata": {},
   "outputs": [
    {
     "name": "stdout",
     "output_type": "stream",
     "text": [
      "Time to process without Dask 272.2656910419464\n"
     ]
    }
   ],
   "source": [
    "import time\n",
    "reviews_cleaned = [\"\"]*len(reviews)\n",
    "t0 = time.time()\n",
    "#for i in range(len(reviews)):\n",
    "#    cleaned = text_process(reviews[i])\n",
    "#    reviews_cleaned[i]=cleaned\n",
    "df['Clean_Text'] = df['Text'].map(lambda s: text_process(s))\n",
    "t1 = time.time()\n",
    "print(\"Time to process without Dask {}\".format(t1-t0))"
   ]
  },
  {
   "cell_type": "code",
   "execution_count": 21,
   "metadata": {},
   "outputs": [],
   "source": [
    "#-- SOME DASK PROTOTYPING, DOESN'T SEEM USEFUL FOR THIS TYPE OF OPERATION --##\n",
    "#import dask.dataframe as dd\n",
    "#ddf = dd.from_pandas(df, npartitions = 8)\n",
    "\n",
    "#def text_process_df(df):\n",
    "#    df['cleanText']= df['Text'].map(lambda s:text_process(s)) \n",
    "#    return df\n",
    "\n",
    "#t0 = time.time()\n",
    "#result = ddf.map_partitions(text_process_df)\n",
    "#df2 = result.compute()\n",
    "#t1 = time.time()\n",
    "#print(\"Time to process with Dask {}\".format(t1-t0))"
   ]
  },
  {
   "cell_type": "code",
   "execution_count": 22,
   "metadata": {},
   "outputs": [
    {
     "data": {
      "text/html": [
       "<div>\n",
       "<style scoped>\n",
       "    .dataframe tbody tr th:only-of-type {\n",
       "        vertical-align: middle;\n",
       "    }\n",
       "\n",
       "    .dataframe tbody tr th {\n",
       "        vertical-align: top;\n",
       "    }\n",
       "\n",
       "    .dataframe thead th {\n",
       "        text-align: right;\n",
       "    }\n",
       "</style>\n",
       "<table border=\"1\" class=\"dataframe\">\n",
       "  <thead>\n",
       "    <tr style=\"text-align: right;\">\n",
       "      <th></th>\n",
       "      <th>Id</th>\n",
       "      <th>ProductId</th>\n",
       "      <th>UserId</th>\n",
       "      <th>ProfileName</th>\n",
       "      <th>HelpfulnessNumerator</th>\n",
       "      <th>HelpfulnessDenominator</th>\n",
       "      <th>Score</th>\n",
       "      <th>Time</th>\n",
       "      <th>Summary</th>\n",
       "      <th>Text</th>\n",
       "      <th>Sentiment</th>\n",
       "      <th>Clean_Text</th>\n",
       "    </tr>\n",
       "  </thead>\n",
       "  <tbody>\n",
       "    <tr>\n",
       "      <th>0</th>\n",
       "      <td>1</td>\n",
       "      <td>B001E4KFG0</td>\n",
       "      <td>A3SGXH7AUHU8GW</td>\n",
       "      <td>delmartian</td>\n",
       "      <td>1</td>\n",
       "      <td>1</td>\n",
       "      <td>5</td>\n",
       "      <td>1303862400</td>\n",
       "      <td>Good Quality Dog Food</td>\n",
       "      <td>I have bought several of the Vitality canned d...</td>\n",
       "      <td>1.0</td>\n",
       "      <td>bought sever vital can dog food product found ...</td>\n",
       "    </tr>\n",
       "    <tr>\n",
       "      <th>1</th>\n",
       "      <td>2</td>\n",
       "      <td>B00813GRG4</td>\n",
       "      <td>A1D87F6ZCVE5NK</td>\n",
       "      <td>dll pa</td>\n",
       "      <td>0</td>\n",
       "      <td>0</td>\n",
       "      <td>1</td>\n",
       "      <td>1346976000</td>\n",
       "      <td>Not as Advertised</td>\n",
       "      <td>Product arrived labeled as Jumbo Salted Peanut...</td>\n",
       "      <td>0.0</td>\n",
       "      <td>product arriv label jumbo salt peanut peanut a...</td>\n",
       "    </tr>\n",
       "    <tr>\n",
       "      <th>2</th>\n",
       "      <td>3</td>\n",
       "      <td>B000LQOCH0</td>\n",
       "      <td>ABXLMWJIXXAIN</td>\n",
       "      <td>Natalia Corres \"Natalia Corres\"</td>\n",
       "      <td>1</td>\n",
       "      <td>1</td>\n",
       "      <td>4</td>\n",
       "      <td>1219017600</td>\n",
       "      <td>\"Delight\" says it all</td>\n",
       "      <td>This is a confection that has been around a fe...</td>\n",
       "      <td>1.0</td>\n",
       "      <td>confect around centuri light pillowi citrus ge...</td>\n",
       "    </tr>\n",
       "    <tr>\n",
       "      <th>3</th>\n",
       "      <td>4</td>\n",
       "      <td>B000UA0QIQ</td>\n",
       "      <td>A395BORC6FGVXV</td>\n",
       "      <td>Karl</td>\n",
       "      <td>3</td>\n",
       "      <td>3</td>\n",
       "      <td>2</td>\n",
       "      <td>1307923200</td>\n",
       "      <td>Cough Medicine</td>\n",
       "      <td>If you are looking for the secret ingredient i...</td>\n",
       "      <td>0.0</td>\n",
       "      <td>look secret ingredi robitussin believ found go...</td>\n",
       "    </tr>\n",
       "    <tr>\n",
       "      <th>4</th>\n",
       "      <td>5</td>\n",
       "      <td>B006K2ZZ7K</td>\n",
       "      <td>A1UQRSCLF8GW1T</td>\n",
       "      <td>Michael D. Bigham \"M. Wassir\"</td>\n",
       "      <td>0</td>\n",
       "      <td>0</td>\n",
       "      <td>5</td>\n",
       "      <td>1350777600</td>\n",
       "      <td>Great taffy</td>\n",
       "      <td>Great taffy at a great price.  There was a wid...</td>\n",
       "      <td>1.0</td>\n",
       "      <td>great taffi great price wide assort yummi taff...</td>\n",
       "    </tr>\n",
       "  </tbody>\n",
       "</table>\n",
       "</div>"
      ],
      "text/plain": [
       "   Id                        ...                                                                 Clean_Text\n",
       "0   1                        ...                          bought sever vital can dog food product found ...\n",
       "1   2                        ...                          product arriv label jumbo salt peanut peanut a...\n",
       "2   3                        ...                          confect around centuri light pillowi citrus ge...\n",
       "3   4                        ...                          look secret ingredi robitussin believ found go...\n",
       "4   5                        ...                          great taffi great price wide assort yummi taff...\n",
       "\n",
       "[5 rows x 12 columns]"
      ]
     },
     "execution_count": 22,
     "metadata": {},
     "output_type": "execute_result"
    }
   ],
   "source": [
    "df.head()"
   ]
  },
  {
   "cell_type": "code",
   "execution_count": 23,
   "metadata": {},
   "outputs": [],
   "source": [
    "reviews = df['Clean_Text'].values\n",
    "labels = df['Sentiment'].values"
   ]
  },
  {
   "cell_type": "markdown",
   "metadata": {},
   "source": [
    "#### Build vocabulary frequency dictionary"
   ]
  },
  {
   "cell_type": "code",
   "execution_count": 24,
   "metadata": {},
   "outputs": [],
   "source": [
    "def vocab_counter(reviews):\n",
    "    vocab = dict()\n",
    "    for txt in reviews:\n",
    "        for word in txt.split():\n",
    "            if word not in vocab:\n",
    "                vocab[word] = 1\n",
    "            else:\n",
    "                vocab[word] += 1\n",
    "    return vocab"
   ]
  },
  {
   "cell_type": "code",
   "execution_count": 25,
   "metadata": {},
   "outputs": [],
   "source": [
    "import operator\n",
    "# Sort dictionary from most to least\n",
    "vocab = vocab_counter(reviews)\n",
    "sorted_dict = sorted(vocab.items(), key=operator.itemgetter(1),reverse = True)"
   ]
  },
  {
   "cell_type": "code",
   "execution_count": 27,
   "metadata": {},
   "outputs": [],
   "source": [
    "vocab_ranking = dict()\n",
    "rank = 1\n",
    "for i in range(len(sorted_dict)):\n",
    "    k = sorted_dict[i][0]\n",
    "    vocab_ranking[k] = rank\n",
    "    rank+=1"
   ]
  },
  {
   "cell_type": "code",
   "execution_count": 29,
   "metadata": {},
   "outputs": [],
   "source": [
    "encoded_txt = []\n",
    "for txt in reviews:\n",
    "    row_ = []\n",
    "    for word in txt.split():\n",
    "        row_.append(vocab_ranking[word])\n",
    "    encoded_txt.append(row_)\n",
    "\n",
    "# Alternative method for text encoding (via Keras one-hot func)\n",
    "#from keras.preprocessing.text import one_hot\n",
    "#encoded_docs = [one_hot(d, 95489) for d in reviews]"
   ]
  },
  {
   "cell_type": "code",
   "execution_count": 30,
   "metadata": {},
   "outputs": [
    {
     "name": "stdout",
     "output_type": "stream",
     "text": [
      "Shortest review: 1\n",
      "Longest review: 1959\n"
     ]
    }
   ],
   "source": [
    "review_lengths = [len(rev) for rev in encoded_txt]\n",
    "print(\"Shortest review:\", min(review_lengths))\n",
    "print(\"Longest review:\",max(review_lengths))"
   ]
  },
  {
   "cell_type": "code",
   "execution_count": 31,
   "metadata": {},
   "outputs": [
    {
     "data": {
      "text/plain": [
       "[]"
      ]
     },
     "execution_count": 31,
     "metadata": {},
     "output_type": "execute_result"
    },
    {
     "data": {
      "image/png": "[encoded data removed]",
      "text/plain": [
       "<Figure size 432x288 with 1 Axes>"
      ]
     },
     "metadata": {},
     "output_type": "display_data"
    }
   ],
   "source": [
    "ax = plt.axes()\n",
    "sns.distplot(review_lengths, kde=False)\n",
    "ax.set_title(\"Distribution of the Amazon Food Review lengths\")\n",
    "plt.xlabel('Length of Review (in words)')\n",
    "plt.ylabel('Counts')\n",
    "plt.plot()"
   ]
  },
  {
   "cell_type": "markdown",
   "metadata": {},
   "source": [
    "**Observation**: As shown in the plot above, most reviews (after text preprocessing) are less than 250 words in length. This tells us that one can limit the embedding vector length to about 200 without severe loss of information. Too long of an embedding vector can lead to very long training times."
   ]
  },
  {
   "cell_type": "markdown",
   "metadata": {},
   "source": [
    "### Splitting Dataset to Train, Validate, and Test sets"
   ]
  },
  {
   "cell_type": "code",
   "execution_count": 32,
   "metadata": {},
   "outputs": [],
   "source": [
    "X = encoded_txt                 # Input feature\n",
    "y = df['Sentiment'].values      # Output labels"
   ]
  },
  {
   "cell_type": "code",
   "execution_count": 33,
   "metadata": {},
   "outputs": [],
   "source": [
    "# For practical reasons, consider fewer data. This also reduces training time\n",
    "X = X[:70000]\n",
    "y = y[:70000]"
   ]
  },
  {
   "cell_type": "markdown",
   "metadata": {},
   "source": [
    "#### Padding the encoded text vector "
   ]
  },
  {
   "cell_type": "code",
   "execution_count": 34,
   "metadata": {},
   "outputs": [],
   "source": [
    "max_length = 200 # This was the length extrapolated from the above distribution\n",
    "X = sequence.pad_sequences(X, maxlen = max_length, padding='pre')"
   ]
  },
  {
   "cell_type": "code",
   "execution_count": 35,
   "metadata": {},
   "outputs": [
    {
     "data": {
      "text/plain": [
       "array([   0,    0,    0,    0,    0,    0,    0,    0,    0,    0,    0,\n",
       "          0,    0,    0,    0,    0,    0,    0,    0,    0,    0,    0,\n",
       "          0,    0,    0,    0,    0,    0,    0,    0,    0,    0,    0,\n",
       "          0,    0,    0,    0,    0,    0,    0,    0,    0,    0,    0,\n",
       "          0,    0,    0,    0,    0,    0,    0,    0,    0,    0,    0,\n",
       "          0,    0,    0,    0,    0,    0,    0,    0,    0,    0,    0,\n",
       "          0,    0,    0,    0,    0,    0,    0,    0,    0,    0,    0,\n",
       "          0,    0,    0,    0,    0,    0,    0,    0,    0,    0,    0,\n",
       "          0,    0,    0,    0,    0,    0,    0,    0,    0,    0,    0,\n",
       "          0,    0,    0,    0,    0,    0,    0,    0,    0,    0,    0,\n",
       "          0,    0,    0,    0,    0,    0,    0,    0,    0,    0,    0,\n",
       "          0,    0,    0,    0,    0,    0,    0,    0,    0,    0,    0,\n",
       "          0,    0,    0,    0,    0,    0,    0,    0,    0,    0,    0,\n",
       "          0,    0,    0,    0,    0,    0,    0,    0,    0,    0,    0,\n",
       "          0,    0,    0,    0,    0,   59,    5,  387,  320, 1922,  164,\n",
       "        445,   26, 1156,   34,  293, 4940,   15,    1,   67,  295, 1922,\n",
       "         74,   19,   51,    4, 1507,  489,    9,  160,    5,   54,    4,\n",
       "        815,   22,  361,  447,   20,   58,   19,   88,  134,   38,  164,\n",
       "          9,    1])"
      ]
     },
     "execution_count": 35,
     "metadata": {},
     "output_type": "execute_result"
    }
   ],
   "source": [
    "X[1000]"
   ]
  },
  {
   "cell_type": "markdown",
   "metadata": {},
   "source": [
    "**Observation:** It seems that 'pre' padding leads to better training models with an LSTM layer. Apparently [others](https://arxiv.org/abs/1903.07288) reported this as well due to the nature of the LSTM layer."
   ]
  },
  {
   "cell_type": "code",
   "execution_count": 36,
   "metadata": {},
   "outputs": [
    {
     "name": "stdout",
     "output_type": "stream",
     "text": [
      "Train set: (56000, 200) \n",
      "Validation set: (7000, 200) \n",
      "Test set: (7000, 200)\n"
     ]
    }
   ],
   "source": [
    "sss = StratifiedShuffleSplit(n_splits=1, test_size=0.2, random_state=1500)\n",
    "\n",
    "splitter = sss.split(X, y)\n",
    "train_index, validation_index = next(splitter)\n",
    "test_index = validation_index[:int(len(validation_index)/2)]\n",
    "validation_index = validation_index[int(len(validation_index)/2):]\n",
    "\n",
    "X_train, y_train = X[train_index], y[train_index]               # Training set\n",
    "X_val, y_val = X[test_index], y[test_index]                     # Validation set\n",
    "X_test, y_test = X[validation_index], y[validation_index]       # Testing set\n",
    "\n",
    "print(\"Train set: {}\".format(X_train.shape), \n",
    "      \"\\nValidation set: {}\".format(X_val.shape),\n",
    "      \"\\nTest set: {}\".format(X_test.shape))"
   ]
  },
  {
   "cell_type": "code",
   "execution_count": 37,
   "metadata": {},
   "outputs": [],
   "source": [
    "def plot_metrics(hist):\n",
    "    '''Given the history of the Keras training model,\n",
    "       plot the loss and accuracy.\n",
    "    '''\n",
    "    train_acc = hist.history['acc']\n",
    "    train_loss = hist.history['loss']\n",
    "\n",
    "    val_acc = hist.history['val_acc']\n",
    "    val_loss = hist.history['val_loss']\n",
    "\n",
    "    \n",
    "    plt.subplot(211)\n",
    "    plt.plot(train_loss, label='Training')\n",
    "    plt.plot(val_loss, '--', label='Validation')\n",
    "    plt.ylabel('Loss')\n",
    "    plt.legend(bbox_to_anchor=(1.05, 1), loc=2, borderaxespad=0.)\n",
    "    plt.subplot(212)\n",
    "    plt.plot(train_acc)\n",
    "    plt.plot(val_acc, '--')\n",
    "    plt.xlabel('Epoch')\n",
    "    plt.ylabel('Accuracy')\n",
    "    plt.show()"
   ]
  },
  {
   "cell_type": "markdown",
   "metadata": {},
   "source": [
    "### Model 1: Embedding layer"
   ]
  },
  {
   "cell_type": "code",
   "execution_count": 38,
   "metadata": {},
   "outputs": [
    {
     "name": "stdout",
     "output_type": "stream",
     "text": [
      "WARNING:tensorflow:From C:\\Users\\Anthony\\Anaconda3\\lib\\site-packages\\tensorflow\\python\\framework\\op_def_library.py:263: colocate_with (from tensorflow.python.framework.ops) is deprecated and will be removed in a future version.\n",
      "Instructions for updating:\n",
      "Colocations handled automatically by placer.\n",
      "_________________________________________________________________\n",
      "Layer (type)                 Output Shape              Param #   \n",
      "=================================================================\n",
      "embedding_1 (Embedding)      (None, 200, 32)           3055648   \n",
      "_________________________________________________________________\n",
      "flatten_1 (Flatten)          (None, 6400)              0         \n",
      "_________________________________________________________________\n",
      "dense_1 (Dense)              (None, 1)                 6401      \n",
      "=================================================================\n",
      "Total params: 3,062,049\n",
      "Trainable params: 3,062,049\n",
      "Non-trainable params: 0\n",
      "_________________________________________________________________\n",
      "None\n"
     ]
    }
   ],
   "source": [
    "input_dim = len(vocab.keys())\n",
    "output_dim = 32\n",
    "\n",
    "model = Sequential()\n",
    "model.add(Embedding(input_dim, output_dim, input_length=max_length))\n",
    "model.add(Flatten())\n",
    "model.add(Dense(1, activation='sigmoid'))\n",
    "model.compile(loss='binary_crossentropy', optimizer='adam', metrics=['accuracy'])\n",
    "print(model.summary())"
   ]
  },
  {
   "cell_type": "code",
   "execution_count": 39,
   "metadata": {},
   "outputs": [
    {
     "name": "stdout",
     "output_type": "stream",
     "text": [
      "WARNING:tensorflow:From C:\\Users\\Anthony\\Anaconda3\\lib\\site-packages\\tensorflow\\python\\ops\\math_ops.py:3066: to_int32 (from tensorflow.python.ops.math_ops) is deprecated and will be removed in a future version.\n",
      "Instructions for updating:\n",
      "Use tf.cast instead.\n",
      "Train on 56000 samples, validate on 7000 samples\n",
      "Epoch 1/20\n",
      "56000/56000 [==============================] - 7s 120us/step - loss: 0.3744 - acc: 0.8348 - val_loss: 0.3008 - val_acc: 0.8714\n",
      "Epoch 2/20\n",
      "56000/56000 [==============================] - 5s 97us/step - loss: 0.2656 - acc: 0.8909 - val_loss: 0.2985 - val_acc: 0.8761\n",
      "Epoch 3/20\n",
      "56000/56000 [==============================] - 5s 96us/step - loss: 0.2113 - acc: 0.9179 - val_loss: 0.3122 - val_acc: 0.8714\n",
      "Epoch 4/20\n",
      "56000/56000 [==============================] - 5s 97us/step - loss: 0.1591 - acc: 0.9434 - val_loss: 0.3304 - val_acc: 0.8674\n",
      "Epoch 5/20\n",
      "56000/56000 [==============================] - 5s 96us/step - loss: 0.1148 - acc: 0.9633 - val_loss: 0.3568 - val_acc: 0.8659\n",
      "Epoch 6/20\n",
      "56000/56000 [==============================] - 5s 97us/step - loss: 0.0809 - acc: 0.9776 - val_loss: 0.3906 - val_acc: 0.8600\n",
      "Epoch 7/20\n",
      "56000/56000 [==============================] - 5s 96us/step - loss: 0.0558 - acc: 0.9870 - val_loss: 0.4254 - val_acc: 0.8593\n",
      "Epoch 8/20\n",
      "56000/56000 [==============================] - 5s 97us/step - loss: 0.0380 - acc: 0.9922 - val_loss: 0.4633 - val_acc: 0.8544\n",
      "Epoch 9/20\n",
      "56000/56000 [==============================] - 5s 97us/step - loss: 0.0256 - acc: 0.9956 - val_loss: 0.5028 - val_acc: 0.8531\n",
      "Epoch 10/20\n",
      "56000/56000 [==============================] - 5s 96us/step - loss: 0.0170 - acc: 0.9973 - val_loss: 0.5470 - val_acc: 0.8506\n",
      "Epoch 11/20\n",
      "56000/56000 [==============================] - 5s 96us/step - loss: 0.0111 - acc: 0.9986 - val_loss: 0.5944 - val_acc: 0.8486\n",
      "Epoch 12/20\n",
      "56000/56000 [==============================] - 5s 96us/step - loss: 0.0071 - acc: 0.9994 - val_loss: 0.6414 - val_acc: 0.8484\n",
      "Epoch 13/20\n",
      "56000/56000 [==============================] - 5s 97us/step - loss: 0.0046 - acc: 0.9997 - val_loss: 0.6922 - val_acc: 0.8459\n",
      "Epoch 14/20\n",
      "56000/56000 [==============================] - 5s 97us/step - loss: 0.0029 - acc: 0.9999 - val_loss: 0.7364 - val_acc: 0.8454\n",
      "Epoch 15/20\n",
      "56000/56000 [==============================] - 5s 97us/step - loss: 0.0021 - acc: 0.9999 - val_loss: 0.7787 - val_acc: 0.8463\n",
      "Epoch 16/20\n",
      "56000/56000 [==============================] - 5s 97us/step - loss: 0.0014 - acc: 0.9999 - val_loss: 0.8186 - val_acc: 0.8443\n",
      "Epoch 17/20\n",
      "56000/56000 [==============================] - 5s 97us/step - loss: 9.8771e-04 - acc: 1.0000 - val_loss: 0.8616 - val_acc: 0.8436\n",
      "Epoch 18/20\n",
      "56000/56000 [==============================] - 5s 97us/step - loss: 8.9195e-04 - acc: 0.9999 - val_loss: 0.9090 - val_acc: 0.8380\n",
      "Epoch 19/20\n",
      "56000/56000 [==============================] - 5s 97us/step - loss: 4.7786e-04 - acc: 0.9999 - val_loss: 0.9423 - val_acc: 0.8424\n",
      "Epoch 20/20\n",
      "56000/56000 [==============================] - 5s 97us/step - loss: 5.5840e-04 - acc: 0.9999 - val_loss: 0.9759 - val_acc: 0.8423\n",
      "Accuracy: 83.77%\n"
     ]
    }
   ],
   "source": [
    "history = model.fit(X_train, y_train, epochs = 20, batch_size=64, verbose=1,validation_data=(X_val, y_val))\n",
    "scores = model.evaluate(X_test, y_test, verbose = 0)\n",
    "print(\"Accuracy: %.2f%%\" % (scores[1]*100))\n"
   ]
  },
  {
   "cell_type": "code",
   "execution_count": 40,
   "metadata": {},
   "outputs": [
    {
     "data": {
      "image/png": "[encoded data removed]",
      "text/plain": [
       "<Figure size 432x288 with 2 Axes>"
      ]
     },
     "metadata": {},
     "output_type": "display_data"
    }
   ],
   "source": [
    "plot_metrics(history)"
   ]
  },
  {
   "cell_type": "markdown",
   "metadata": {},
   "source": [
    "**Observation:** Although the training loss decreases in each epoch, the validation loss rises. This is an indication that there is overfitting in the modeling. One approach to alleviate this issue to apply dropout in the neural network. Also noted that the test accuracy for this model is 83.77%. "
   ]
  },
  {
   "cell_type": "markdown",
   "metadata": {},
   "source": [
    "### Model 2: Embedding + Dropout"
   ]
  },
  {
   "cell_type": "code",
   "execution_count": 41,
   "metadata": {},
   "outputs": [
    {
     "name": "stdout",
     "output_type": "stream",
     "text": [
      "WARNING:tensorflow:From C:\\Users\\Anthony\\Anaconda3\\lib\\site-packages\\keras\\backend\\tensorflow_backend.py:3445: calling dropout (from tensorflow.python.ops.nn_ops) with keep_prob is deprecated and will be removed in a future version.\n",
      "Instructions for updating:\n",
      "Please use `rate` instead of `keep_prob`. Rate should be set to `rate = 1 - keep_prob`.\n",
      "_________________________________________________________________\n",
      "Layer (type)                 Output Shape              Param #   \n",
      "=================================================================\n",
      "embedding_2 (Embedding)      (None, 200, 32)           3055648   \n",
      "_________________________________________________________________\n",
      "dropout_1 (Dropout)          (None, 200, 32)           0         \n",
      "_________________________________________________________________\n",
      "flatten_2 (Flatten)          (None, 6400)              0         \n",
      "_________________________________________________________________\n",
      "dense_2 (Dense)              (None, 1)                 6401      \n",
      "=================================================================\n",
      "Total params: 3,062,049\n",
      "Trainable params: 3,062,049\n",
      "Non-trainable params: 0\n",
      "_________________________________________________________________\n",
      "None\n"
     ]
    }
   ],
   "source": [
    "input_dim = len(vocab.keys())\n",
    "output_dim = 32\n",
    "\n",
    "model_2 = Sequential()\n",
    "model_2.add(Embedding(input_dim, output_dim, input_length=max_length))\n",
    "model_2.add(Dropout(0.75))\n",
    "model_2.add(Flatten())\n",
    "model_2.add(Dense(1, activation='sigmoid'))\n",
    "model_2.compile(loss='binary_crossentropy', optimizer='adam', metrics=['accuracy'])\n",
    "print(model_2.summary())"
   ]
  },
  {
   "cell_type": "code",
   "execution_count": 42,
   "metadata": {},
   "outputs": [
    {
     "name": "stdout",
     "output_type": "stream",
     "text": [
      "Train on 56000 samples, validate on 7000 samples\n",
      "Epoch 1/20\n",
      "56000/56000 [==============================] - 6s 116us/step - loss: 0.4275 - acc: 0.8080 - val_loss: 0.3210 - val_acc: 0.8660\n",
      "Epoch 2/20\n",
      "56000/56000 [==============================] - 6s 105us/step - loss: 0.3144 - acc: 0.8648 - val_loss: 0.3014 - val_acc: 0.8734\n",
      "Epoch 3/20\n",
      "56000/56000 [==============================] - 6s 105us/step - loss: 0.2879 - acc: 0.8784 - val_loss: 0.2986 - val_acc: 0.8767\n",
      "Epoch 4/20\n",
      "56000/56000 [==============================] - 6s 105us/step - loss: 0.2702 - acc: 0.8907 - val_loss: 0.2984 - val_acc: 0.8751\n",
      "Epoch 5/20\n",
      "56000/56000 [==============================] - 6s 105us/step - loss: 0.2547 - acc: 0.8966 - val_loss: 0.3011 - val_acc: 0.8750\n",
      "Epoch 6/20\n",
      "56000/56000 [==============================] - 6s 105us/step - loss: 0.2433 - acc: 0.9004 - val_loss: 0.3050 - val_acc: 0.8744\n",
      "Epoch 7/20\n",
      "56000/56000 [==============================] - 6s 106us/step - loss: 0.2326 - acc: 0.9060 - val_loss: 0.3085 - val_acc: 0.8726\n",
      "Epoch 8/20\n",
      "56000/56000 [==============================] - 6s 105us/step - loss: 0.2206 - acc: 0.9107 - val_loss: 0.3118 - val_acc: 0.8743\n",
      "Epoch 9/20\n",
      "56000/56000 [==============================] - 6s 105us/step - loss: 0.2116 - acc: 0.9159 - val_loss: 0.3156 - val_acc: 0.8721\n",
      "Epoch 10/20\n",
      "56000/56000 [==============================] - 6s 105us/step - loss: 0.2045 - acc: 0.9175 - val_loss: 0.3194 - val_acc: 0.8736\n",
      "Epoch 11/20\n",
      "56000/56000 [==============================] - 6s 105us/step - loss: 0.1956 - acc: 0.9223 - val_loss: 0.3242 - val_acc: 0.8754\n",
      "Epoch 12/20\n",
      "56000/56000 [==============================] - 6s 105us/step - loss: 0.1884 - acc: 0.9257 - val_loss: 0.3287 - val_acc: 0.8701\n",
      "Epoch 13/20\n",
      "56000/56000 [==============================] - 6s 105us/step - loss: 0.1804 - acc: 0.9289 - val_loss: 0.3380 - val_acc: 0.8697\n",
      "Epoch 14/20\n",
      "56000/56000 [==============================] - 6s 105us/step - loss: 0.1749 - acc: 0.9311 - val_loss: 0.3398 - val_acc: 0.8689\n",
      "Epoch 15/20\n",
      "56000/56000 [==============================] - 6s 105us/step - loss: 0.1728 - acc: 0.9318 - val_loss: 0.3435 - val_acc: 0.8683\n",
      "Epoch 16/20\n",
      "56000/56000 [==============================] - 6s 105us/step - loss: 0.1682 - acc: 0.9343 - val_loss: 0.3468 - val_acc: 0.8670\n",
      "Epoch 17/20\n",
      "56000/56000 [==============================] - 6s 105us/step - loss: 0.1640 - acc: 0.9354 - val_loss: 0.3523 - val_acc: 0.8681\n",
      "Epoch 18/20\n",
      "56000/56000 [==============================] - 6s 105us/step - loss: 0.1597 - acc: 0.9381 - val_loss: 0.3563 - val_acc: 0.8674\n",
      "Epoch 19/20\n",
      "56000/56000 [==============================] - 6s 106us/step - loss: 0.1527 - acc: 0.9394 - val_loss: 0.3587 - val_acc: 0.8679\n",
      "Epoch 20/20\n",
      "56000/56000 [==============================] - 6s 105us/step - loss: 0.1503 - acc: 0.9401 - val_loss: 0.3710 - val_acc: 0.8677\n",
      "Accuracy: 85.74%\n"
     ]
    }
   ],
   "source": [
    "history_2 = model_2.fit(X_train, y_train, epochs = 20, batch_size=64, verbose=1,validation_data=(X_val, y_val))\n",
    "scores_2 = model_2.evaluate(X_test, y_test, verbose = 0)\n",
    "print(\"Accuracy: %.2f%%\" % (scores_2[1]*100))"
   ]
  },
  {
   "cell_type": "code",
   "execution_count": 43,
   "metadata": {},
   "outputs": [
    {
     "data": {
      "image/png": "[encoded data removed]",
      "text/plain": [
       "<Figure size 432x288 with 2 Axes>"
      ]
     },
     "metadata": {},
     "output_type": "display_data"
    }
   ],
   "source": [
    "plot_metrics(history_2)"
   ]
  },
  {
   "cell_type": "markdown",
   "metadata": {},
   "source": [
    "**Observation:** Similar observations from Model 1 can also be seen here but there is noticeable improvements on the validation loss in this model. There is also some improvements on the test accuracy for this model where a value of 85.74% is reported. Although the training accuracy for Model 2 is not as impressive as Model 1 but is still relatively decent.\n",
    "\n",
    "Let us try adding more complexity to the model with a LSTM layer."
   ]
  },
  {
   "cell_type": "markdown",
   "metadata": {},
   "source": [
    "### Model 3: Embedding + Dropout + LSTM "
   ]
  },
  {
   "cell_type": "code",
   "execution_count": 44,
   "metadata": {},
   "outputs": [
    {
     "name": "stdout",
     "output_type": "stream",
     "text": [
      "_________________________________________________________________\n",
      "Layer (type)                 Output Shape              Param #   \n",
      "=================================================================\n",
      "embedding_3 (Embedding)      (None, 200, 32)           3055648   \n",
      "_________________________________________________________________\n",
      "dropout_2 (Dropout)          (None, 200, 32)           0         \n",
      "_________________________________________________________________\n",
      "lstm_1 (LSTM)                (None, 100)               53200     \n",
      "_________________________________________________________________\n",
      "dense_3 (Dense)              (None, 1)                 101       \n",
      "=================================================================\n",
      "Total params: 3,108,949\n",
      "Trainable params: 3,108,949\n",
      "Non-trainable params: 0\n",
      "_________________________________________________________________\n",
      "None\n"
     ]
    }
   ],
   "source": [
    "input_dim = len(vocab.keys())\n",
    "output_dim = 32\n",
    "\n",
    "model_3 = Sequential()\n",
    "model_3.add(Embedding(input_dim, output_dim, input_length=max_length))\n",
    "model_3.add(Dropout(0.75))\n",
    "model_3.add(LSTM(100))\n",
    "model_3.add(Dense(1, activation='sigmoid'))\n",
    "model_3.compile(loss='binary_crossentropy', optimizer='adam', metrics=['accuracy'])\n",
    "print(model_3.summary())"
   ]
  },
  {
   "cell_type": "code",
   "execution_count": 45,
   "metadata": {},
   "outputs": [
    {
     "name": "stdout",
     "output_type": "stream",
     "text": [
      "Train on 56000 samples, validate on 7000 samples\n",
      "Epoch 1/20\n",
      "56000/56000 [==============================] - 174s 3ms/step - loss: 0.4004 - acc: 0.8245 - val_loss: 0.3197 - val_acc: 0.8704\n",
      "Epoch 2/20\n",
      "56000/56000 [==============================] - 172s 3ms/step - loss: 0.3105 - acc: 0.8701 - val_loss: 0.3159 - val_acc: 0.8736\n",
      "Epoch 3/20\n",
      "56000/56000 [==============================] - 172s 3ms/step - loss: 0.2873 - acc: 0.8819 - val_loss: 0.2991 - val_acc: 0.8743\n",
      "Epoch 4/20\n",
      "56000/56000 [==============================] - 172s 3ms/step - loss: 0.2723 - acc: 0.8876 - val_loss: 0.3023 - val_acc: 0.8739\n",
      "Epoch 5/20\n",
      "56000/56000 [==============================] - 172s 3ms/step - loss: 0.2621 - acc: 0.8919 - val_loss: 0.2931 - val_acc: 0.8763\n",
      "Epoch 6/20\n",
      "56000/56000 [==============================] - 172s 3ms/step - loss: 0.2518 - acc: 0.8975 - val_loss: 0.2966 - val_acc: 0.8730\n",
      "Epoch 7/20\n",
      "56000/56000 [==============================] - 172s 3ms/step - loss: 0.2437 - acc: 0.9004 - val_loss: 0.2951 - val_acc: 0.8746\n",
      "Epoch 8/20\n",
      "56000/56000 [==============================] - 173s 3ms/step - loss: 0.2356 - acc: 0.9057 - val_loss: 0.3058 - val_acc: 0.8729\n",
      "Epoch 9/20\n",
      "56000/56000 [==============================] - 174s 3ms/step - loss: 0.2291 - acc: 0.9083 - val_loss: 0.3134 - val_acc: 0.8721\n",
      "Epoch 10/20\n",
      "56000/56000 [==============================] - 174s 3ms/step - loss: 0.2259 - acc: 0.9099 - val_loss: 0.3147 - val_acc: 0.8740\n",
      "Epoch 11/20\n",
      "56000/56000 [==============================] - 186s 3ms/step - loss: 0.2201 - acc: 0.9120 - val_loss: 0.3151 - val_acc: 0.8740\n",
      "Epoch 12/20\n",
      "56000/56000 [==============================] - 173s 3ms/step - loss: 0.2140 - acc: 0.9140 - val_loss: 0.3130 - val_acc: 0.8737\n",
      "Epoch 13/20\n",
      "56000/56000 [==============================] - 174s 3ms/step - loss: 0.2097 - acc: 0.9162 - val_loss: 0.3287 - val_acc: 0.8710\n",
      "Epoch 14/20\n",
      "56000/56000 [==============================] - 173s 3ms/step - loss: 0.2065 - acc: 0.9174 - val_loss: 0.3192 - val_acc: 0.8733\n",
      "Epoch 15/20\n",
      "56000/56000 [==============================] - 174s 3ms/step - loss: 0.2018 - acc: 0.9187 - val_loss: 0.3209 - val_acc: 0.8723\n",
      "Epoch 16/20\n",
      "56000/56000 [==============================] - 175s 3ms/step - loss: 0.1980 - acc: 0.9215 - val_loss: 0.3229 - val_acc: 0.8740\n",
      "Epoch 17/20\n",
      "56000/56000 [==============================] - 177s 3ms/step - loss: 0.1941 - acc: 0.9225 - val_loss: 0.3329 - val_acc: 0.8704\n",
      "Epoch 18/20\n",
      "56000/56000 [==============================] - 179s 3ms/step - loss: 0.1921 - acc: 0.9229 - val_loss: 0.3164 - val_acc: 0.8714\n",
      "Epoch 19/20\n",
      "56000/56000 [==============================] - 175s 3ms/step - loss: 0.1884 - acc: 0.9246 - val_loss: 0.3516 - val_acc: 0.8699\n",
      "Epoch 20/20\n",
      "56000/56000 [==============================] - 174s 3ms/step - loss: 0.1832 - acc: 0.9263 - val_loss: 0.3559 - val_acc: 0.8746\n",
      "Accuracy: 86.80%\n"
     ]
    }
   ],
   "source": [
    "history_3 = model_3.fit(X_train, y_train, epochs = 20, batch_size=128, verbose=1,validation_data=(X_val, y_val))\n",
    "scores_3 = model_3.evaluate(X_test, y_test, verbose = 0)\n",
    "print(\"Accuracy: %.2f%%\" % (scores_3[1]*100))"
   ]
  },
  {
   "cell_type": "code",
   "execution_count": 46,
   "metadata": {},
   "outputs": [
    {
     "data": {
      "image/png": "[encoded data removed]",
      "text/plain": [
       "<Figure size 432x288 with 2 Axes>"
      ]
     },
     "metadata": {},
     "output_type": "display_data"
    }
   ],
   "source": [
    "plot_metrics(history_3)"
   ]
  },
  {
   "cell_type": "markdown",
   "metadata": {},
   "source": [
    "**Observations:** The loss and accuracy profiles for Model 3 are very similar to Model 2. The test accuracy of Model 3 is 86.8%, a very slight improvement from Model 2 at the same epoch. From the logs, it is obvious the training for this model is a lot longer than the previous ones. One then has to consider whether it is worth using this model since there is little to gain.\n",
    "\n",
    "**Possible improvements**: Longer training times may improve Models 2 and 3. Using pre-trained word embeddings such as Word2Vec or GloVE would be an interesting extension to this execise. One can also continue to find optimal hyperparameters (e.g., embedding dimensions, dropout rate, batch sizes, etc.) but much time has already been spent here in tuning those parameters."
   ]
  }
 ],
 "metadata": {
  "kernelspec": {
   "display_name": "Python 3 (Spyder)",
   "language": "python3",
   "name": "python3"
  },
  "language_info": {
   "codemirror_mode": {
    "name": "ipython",
    "version": 3
   },
   "file_extension": ".py",
   "mimetype": "text/x-python",
   "name": "python",
   "nbconvert_exporter": "python",
   "pygments_lexer": "ipython3",
   "version": "3.6.6"
  }
 },
 "nbformat": 4,
 "nbformat_minor": 2
}
